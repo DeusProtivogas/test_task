{
  "nbformat": 4,
  "nbformat_minor": 0,
  "metadata": {
    "colab": {
      "provenance": []
    },
    "kernelspec": {
      "name": "python3",
      "display_name": "Python 3"
    },
    "language_info": {
      "name": "python"
    }
  },
  "cells": [
    {
      "cell_type": "markdown",
      "source": [
        "# 1) "
      ],
      "metadata": {
        "id": "sLCLB_HiXfJ7"
      }
    },
    {
      "cell_type": "markdown",
      "source": [
        "SQL скрипт на SQLite:\n",
        "\n",
        "```\n",
        "SELECT date_tt, id_tt, summa, row_number() over(PARTITION BY id_tt ORDER BY id_tt) as rn FROM dt;\n",
        "```"
      ],
      "metadata": {
        "id": "SCjWRa4SY6vc"
      }
    },
    {
      "cell_type": "markdown",
      "source": [
        "# 2)"
      ],
      "metadata": {
        "id": "ZmLMkSrpZzlr"
      }
    },
    {
      "cell_type": "markdown",
      "source": [
        "SQL скрипт на SQLite:\n",
        "\n",
        "\n",
        "```\n",
        "SELECT DISTINCT id_tov FROM DDT\n",
        "WHERE date_tt >= DATE('now','-30 day') AND qty > 0 AND id_tov NOT IN (\n",
        "    SELECT DISTINCT id_tov FROM DDT\n",
        "    WHERE date_tt < DATE('now','-30 day') AND qty > 0\n",
        ") ;\n",
        "```\n",
        "\n",
        "\n",
        "\n",
        "\n"
      ],
      "metadata": {
        "id": "IDukkBkeZ0mM"
      }
    },
    {
      "cell_type": "markdown",
      "source": [
        "# 3)"
      ],
      "metadata": {
        "id": "GsGtlBxnXb_c"
      }
    },
    {
      "cell_type": "code",
      "source": [
        "def from_chaos_to_order(l):\n",
        "  '''\n",
        "  l - список пар аналогов\n",
        "  в результате выводит кортежи аналогов\n",
        "  '''\n",
        "  res = []  # создаем список, в котором будем хранить результат\n",
        "  for pair in l:\n",
        "    # для каждой пары аналогов в полученном списке ищем подходящее множество \n",
        "    # аналогов, если нашли - добавляем id из пары в это множество, иначе - \n",
        "    # создаем новое на остнове этой пары\n",
        "    found_analogues = False # флаг на случай, если нашли совпадения\n",
        "    # преобразуем пару из списка во множество, для быстроты поиска и вставки\n",
        "    pair_set = set(pair)\n",
        "    \n",
        "    for analogues in res:\n",
        "      # ищем совпадения (пересечения) между парой и каждым множеством аналогов\n",
        "      if pair_set & analogues:\n",
        "        # нашли сопадение, добавляем элементы пары\n",
        "        # множество содержат уникальные элементы, можно добавлять оба элемента пары\n",
        "        analogues.update(pair_set)\n",
        "        found_analogues = True # меняем флаг, т.к. нашли аналоги\n",
        "        break # выходим из поиска, т.к. каждой паре может подойти не более одного множества\n",
        "    if not found_analogues:\n",
        "      # не нашли множество аналогов, создаем новое на основе пары\n",
        "      # (в данном случае, просто добавляем пару, которая преобразована во множество, в список результата)\n",
        "      res.append( pair_set )\n",
        "  # выводим результат в заданном формате (в виде кортежей)      \n",
        "  for item in res:\n",
        "    print(tuple(item))"
      ],
      "metadata": {
        "id": "Kw9u5REATeKs"
      },
      "execution_count": 4,
      "outputs": []
    },
    {
      "cell_type": "code",
      "source": [
        "from_chaos_to_order( [ [1102, 214], [214, 2007], [42, 315], [406, 2007], [4011, 512] ] )"
      ],
      "metadata": {
        "colab": {
          "base_uri": "https://localhost:8080/"
        },
        "id": "NS1eSV1ZTnpE",
        "outputId": "d124f7e0-04b4-4ec5-9a6e-cbbea2ea5114"
      },
      "execution_count": 5,
      "outputs": [
        {
          "output_type": "stream",
          "name": "stdout",
          "text": [
            "(214, 2007, 406, 1102)\n",
            "(42, 315)\n",
            "(512, 4011)\n"
          ]
        }
      ]
    }
  ]
}